{
 "cells": [
  {
   "cell_type": "code",
   "execution_count": 1,
   "metadata": {},
   "outputs": [],
   "source": [
    "import subprocess\n",
    "import chromedriver_binary\n",
    "from selenium import webdriver"
   ]
  },
  {
   "cell_type": "markdown",
   "metadata": {},
   "source": [
    "# ①コーディング学習アクション"
   ]
  },
  {
   "cell_type": "code",
   "execution_count": 4,
   "metadata": {},
   "outputs": [],
   "source": [
    "# VScode\n",
    "subprocess.Popen(['open', '/Applications/Visual Studio Code.app'])\n",
    "\n",
    "# Chrom(Udemy,Twitter,スプシ)\n",
    "# タブ1\n",
    "driver = webdriver.Chrome()\n",
    "driver.execute_script(\"window.open()\") \n",
    "driver.switch_to.window(driver.window_handles[0])\n",
    "driver.get('https://www.udemy.com/home/my-courses/learning/')\n",
    "\n",
    "# タブ2\n",
    "driver.switch_to.window(driver.window_handles[1])\n",
    "driver.get(ツイッターのリンク)\n",
    "\n",
    "# タブ3\n",
    "driver.execute_script(\"window.open()\")\n",
    "driver.switch_to.window(driver.window_handles[2])\n",
    "driver.get(スプシのリンク)"
   ]
  },
  {
   "cell_type": "markdown",
   "metadata": {},
   "source": [
    "# ②研究アクション"
   ]
  },
  {
   "cell_type": "code",
   "execution_count": 6,
   "metadata": {},
   "outputs": [
    {
     "data": {
      "text/plain": [
       "<subprocess.Popen at 0x7fcfa17d8fd0>"
      ]
     },
     "execution_count": 6,
     "metadata": {},
     "output_type": "execute_result"
    }
   ],
   "source": [
    "# アプリ(slack,trello)\n",
    "subprocess.Popen(['open', '/Applications/Slack.app', '/Applications/Trello.app'])"
   ]
  },
  {
   "cell_type": "markdown",
   "metadata": {},
   "source": [
    "# ③本読みアクション"
   ]
  },
  {
   "cell_type": "code",
   "execution_count": 5,
   "metadata": {},
   "outputs": [
    {
     "data": {
      "text/plain": [
       "<subprocess.Popen at 0x7fcfa17f02d0>"
      ]
     },
     "execution_count": 5,
     "metadata": {},
     "output_type": "execute_result"
    }
   ],
   "source": [
    "# 本のpdf\n",
    "pdf_path = 本のパス\n",
    "\n",
    "#マインドマップ\n",
    "emmx_path = マインドマップのパス\n",
    "\n",
    "subprocess.Popen(['open', pdf_path, emmx_path])"
   ]
  },
  {
   "cell_type": "markdown",
   "metadata": {},
   "source": [
    "# ④ブログアクション"
   ]
  },
  {
   "cell_type": "code",
   "execution_count": null,
   "metadata": {},
   "outputs": [],
   "source": [
    "# マインドマップ\n",
    "emmx_path = マインドマップのパス\n",
    "subprocess.Popen(['open', emmx_path])\n",
    "\n",
    "# Chrom(ブログページ,新規ページ)\n",
    "# タブ1\n",
    "driver = webdriver.Chrome()\n",
    "driver.execute_script(\"window.open()\")\n",
    "driver.switch_to.window(driver.window_handles[0]) #0番タブにスイッチ\n",
    "\n",
    "# タブ2\n",
    "driver.get('http://www.tomohiko9090.com/') \n",
    "driver.switch_to.window(driver.window_handles[1]) #1番タブにスイッチ\n",
    "driver.get('http://www.tomohiko9090.com/wp-admin/post-new.php')"
   ]
  },
  {
   "cell_type": "markdown",
   "metadata": {},
   "source": [
    "# ⑤就活アクション"
   ]
  },
  {
   "cell_type": "code",
   "execution_count": 61,
   "metadata": {},
   "outputs": [],
   "source": [
    "# trello\n",
    "subprocess.Popen(['open', '/Applications/Trello.app'])\n",
    "\n",
    "# Chrom(就活メール,就活カウントをまとめたスプシ)\n",
    "# タブ1\n",
    "driver = webdriver.Chrome()\n",
    "driver.execute_script(\"window.open()\") \n",
    "driver.switch_to.window(driver.window_handles[0]) #0番タブにスイッチ\n",
    "driver.get('https://mail.google.com/mail/u/1/#inbox') \n",
    "\n",
    "# タブ2\n",
    "driver.switch_to.window(driver.window_handles[1]) #1番タブにスイッチ\n",
    "driver.get(スプシのリンク)"
   ]
  },
  {
   "cell_type": "code",
   "execution_count": null,
   "metadata": {},
   "outputs": [],
   "source": []
  }
 ],
 "metadata": {
  "kernelspec": {
   "display_name": "Python 3",
   "language": "python",
   "name": "python3"
  },
  "language_info": {
   "codemirror_mode": {
    "name": "ipython",
    "version": 3
   },
   "file_extension": ".py",
   "mimetype": "text/x-python",
   "name": "python",
   "nbconvert_exporter": "python",
   "pygments_lexer": "ipython3",
   "version": "3.7.6"
  },
  "toc-autonumbering": false,
  "toc-showcode": false,
  "toc-showmarkdowntxt": false
 },
 "nbformat": 4,
 "nbformat_minor": 4
}
